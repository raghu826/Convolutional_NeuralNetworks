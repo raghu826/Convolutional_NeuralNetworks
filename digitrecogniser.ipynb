{
 "cells": [
  {
   "cell_type": "code",
   "execution_count": 1,
   "metadata": {
    "_cell_guid": "b1076dfc-b9ad-4769-8c92-a6c4dae69d19",
    "_uuid": "8f2839f25d086af736a60e9eeb907d3b93b6e0e5",
    "execution": {
     "iopub.execute_input": "2021-02-09T00:39:34.834024Z",
     "iopub.status.busy": "2021-02-09T00:39:34.832718Z",
     "iopub.status.idle": "2021-02-09T00:39:34.838881Z",
     "shell.execute_reply": "2021-02-09T00:39:34.839588Z"
    },
    "papermill": {
     "duration": 0.034045,
     "end_time": "2021-02-09T00:39:34.839967",
     "exception": false,
     "start_time": "2021-02-09T00:39:34.805922",
     "status": "completed"
    },
    "tags": []
   },
   "outputs": [
    {
     "name": "stdout",
     "output_type": "stream",
     "text": [
      "/kaggle/input/digit-recognizer/sample_submission.csv\n",
      "/kaggle/input/digit-recognizer/train.csv\n",
      "/kaggle/input/digit-recognizer/test.csv\n"
     ]
    }
   ],
   "source": [
    "# This Python 3 environment comes with many helpful analytics libraries installed\n",
    "# It is defined by the kaggle/python Docker image: https://github.com/kaggle/docker-python\n",
    "# For example, here's several helpful packages to load\n",
    "\n",
    "import numpy as np # linear algebra\n",
    "import pandas as pd # data processing, CSV file I/O (e.g. pd.read_csv)\n",
    "\n",
    "# Input data files are available in the read-only \"../input/\" directory\n",
    "# For example, running this (by clicking run or pressing Shift+Enter) will list all files under the input directory\n",
    "\n",
    "import os\n",
    "for dirname, _, filenames in os.walk('/kaggle/input'):\n",
    "    for filename in filenames:\n",
    "        print(os.path.join(dirname, filename))\n",
    "\n",
    "# You can write up to 20GB to the current directory (/kaggle/working/) that gets preserved as output when you create a version using \"Save & Run All\" \n",
    "# You can also write temporary files to /kaggle/temp/, but they won't be saved outside of the current session"
   ]
  },
  {
   "cell_type": "code",
   "execution_count": 2,
   "metadata": {
    "execution": {
     "iopub.execute_input": "2021-02-09T00:39:34.879177Z",
     "iopub.status.busy": "2021-02-09T00:39:34.878414Z",
     "iopub.status.idle": "2021-02-09T00:39:41.207642Z",
     "shell.execute_reply": "2021-02-09T00:39:41.205702Z"
    },
    "papermill": {
     "duration": 6.350397,
     "end_time": "2021-02-09T00:39:41.207848",
     "exception": false,
     "start_time": "2021-02-09T00:39:34.857451",
     "status": "completed"
    },
    "tags": []
   },
   "outputs": [],
   "source": [
    "train = pd.read_csv('../input/digit-recognizer/train.csv')\n",
    "test = pd.read_csv('../input/digit-recognizer/test.csv')"
   ]
  },
  {
   "cell_type": "code",
   "execution_count": 3,
   "metadata": {
    "execution": {
     "iopub.execute_input": "2021-02-09T00:39:41.247128Z",
     "iopub.status.busy": "2021-02-09T00:39:41.246463Z",
     "iopub.status.idle": "2021-02-09T00:39:41.270048Z",
     "shell.execute_reply": "2021-02-09T00:39:41.270600Z"
    },
    "papermill": {
     "duration": 0.046448,
     "end_time": "2021-02-09T00:39:41.270803",
     "exception": false,
     "start_time": "2021-02-09T00:39:41.224355",
     "status": "completed"
    },
    "tags": []
   },
   "outputs": [
    {
     "name": "stdout",
     "output_type": "stream",
     "text": [
      "   label  pixel0  pixel1  pixel2  pixel3  pixel4  pixel5  pixel6  pixel7  \\\n",
      "0      1       0       0       0       0       0       0       0       0   \n",
      "1      0       0       0       0       0       0       0       0       0   \n",
      "2      1       0       0       0       0       0       0       0       0   \n",
      "3      4       0       0       0       0       0       0       0       0   \n",
      "4      0       0       0       0       0       0       0       0       0   \n",
      "\n",
      "   pixel8  ...  pixel774  pixel775  pixel776  pixel777  pixel778  pixel779  \\\n",
      "0       0  ...         0         0         0         0         0         0   \n",
      "1       0  ...         0         0         0         0         0         0   \n",
      "2       0  ...         0         0         0         0         0         0   \n",
      "3       0  ...         0         0         0         0         0         0   \n",
      "4       0  ...         0         0         0         0         0         0   \n",
      "\n",
      "   pixel780  pixel781  pixel782  pixel783  \n",
      "0         0         0         0         0  \n",
      "1         0         0         0         0  \n",
      "2         0         0         0         0  \n",
      "3         0         0         0         0  \n",
      "4         0         0         0         0  \n",
      "\n",
      "[5 rows x 785 columns]\n"
     ]
    }
   ],
   "source": [
    "print(train.head())"
   ]
  },
  {
   "cell_type": "code",
   "execution_count": 4,
   "metadata": {
    "execution": {
     "iopub.execute_input": "2021-02-09T00:39:41.418271Z",
     "iopub.status.busy": "2021-02-09T00:39:41.310144Z",
     "iopub.status.idle": "2021-02-09T00:39:41.428186Z",
     "shell.execute_reply": "2021-02-09T00:39:41.427488Z"
    },
    "papermill": {
     "duration": 0.140502,
     "end_time": "2021-02-09T00:39:41.428333",
     "exception": false,
     "start_time": "2021-02-09T00:39:41.287831",
     "status": "completed"
    },
    "tags": []
   },
   "outputs": [
    {
     "name": "stdout",
     "output_type": "stream",
     "text": [
      "1    4684\n",
      "7    4401\n",
      "3    4351\n",
      "9    4188\n",
      "2    4177\n",
      "6    4137\n",
      "0    4132\n",
      "4    4072\n",
      "8    4063\n",
      "5    3795\n",
      "Name: label, dtype: int64\n"
     ]
    }
   ],
   "source": [
    "X_train = train.drop('label', axis = 1)\n",
    "y_train = train['label']\n",
    "print(y_train.value_counts())"
   ]
  },
  {
   "cell_type": "code",
   "execution_count": 5,
   "metadata": {
    "execution": {
     "iopub.execute_input": "2021-02-09T00:39:41.469726Z",
     "iopub.status.busy": "2021-02-09T00:39:41.469069Z",
     "iopub.status.idle": "2021-02-09T00:39:41.475035Z",
     "shell.execute_reply": "2021-02-09T00:39:41.474494Z"
    },
    "papermill": {
     "duration": 0.029415,
     "end_time": "2021-02-09T00:39:41.475188",
     "exception": false,
     "start_time": "2021-02-09T00:39:41.445773",
     "status": "completed"
    },
    "tags": []
   },
   "outputs": [
    {
     "name": "stdout",
     "output_type": "stream",
     "text": [
      "x_train shape:  (42000, 784)\n",
      "y_train shape:  42000\n",
      "test shape:  (28000, 784)\n",
      "\n",
      "samples in test:  28000\n",
      "samples in train:  42000\n"
     ]
    }
   ],
   "source": [
    "print('x_train shape: ', X_train.shape)\n",
    "print('y_train shape: ', y_train.shape[0])\n",
    "print('test shape: ', test.shape)\n",
    "print('\\nsamples in test: ', test.shape[0])\n",
    "print('samples in train: ', X_train.shape[0])"
   ]
  },
  {
   "cell_type": "code",
   "execution_count": 6,
   "metadata": {
    "execution": {
     "iopub.execute_input": "2021-02-09T00:39:41.517320Z",
     "iopub.status.busy": "2021-02-09T00:39:41.516586Z",
     "iopub.status.idle": "2021-02-09T00:39:42.716125Z",
     "shell.execute_reply": "2021-02-09T00:39:42.715395Z"
    },
    "papermill": {
     "duration": 1.222512,
     "end_time": "2021-02-09T00:39:42.716291",
     "exception": false,
     "start_time": "2021-02-09T00:39:41.493779",
     "status": "completed"
    },
    "tags": []
   },
   "outputs": [
    {
     "name": "stderr",
     "output_type": "stream",
     "text": [
      "/opt/conda/lib/python3.7/site-packages/seaborn/_decorators.py:43: FutureWarning: Pass the following variable as a keyword arg: x. From version 0.12, the only valid positional argument will be `data`, and passing other arguments without an explicit keyword will result in an error or misinterpretation.\n",
      "  FutureWarning\n"
     ]
    },
    {
     "data": {
      "text/plain": [
       "<AxesSubplot:xlabel='label', ylabel='count'>"
      ]
     },
     "execution_count": 6,
     "metadata": {},
     "output_type": "execute_result"
    },
    {
     "data": {
      "image/png": "[encoded data removed]",
      "text/plain": [
       "<Figure size 432x288 with 1 Axes>"
      ]
     },
     "metadata": {
      "needs_background": "light"
     },
     "output_type": "display_data"
    }
   ],
   "source": [
    "import matplotlib.pyplot as plt\n",
    "import seaborn as sns\n",
    "\n",
    "sns.countplot(y_train)"
   ]
  },
  {
   "cell_type": "code",
   "execution_count": 7,
   "metadata": {
    "execution": {
     "iopub.execute_input": "2021-02-09T00:39:42.762883Z",
     "iopub.status.busy": "2021-02-09T00:39:42.762212Z",
     "iopub.status.idle": "2021-02-09T00:39:42.765545Z",
     "shell.execute_reply": "2021-02-09T00:39:42.764872Z"
    },
    "papermill": {
     "duration": 0.029642,
     "end_time": "2021-02-09T00:39:42.765711",
     "exception": false,
     "start_time": "2021-02-09T00:39:42.736069",
     "status": "completed"
    },
    "tags": []
   },
   "outputs": [],
   "source": [
    "X_train = X_train.values.reshape(X_train.shape[0], 28, 28, 1)\n",
    "test = test.values.reshape(test.shape[0], 28, 28, 1)"
   ]
  },
  {
   "cell_type": "code",
   "execution_count": 8,
   "metadata": {
    "execution": {
     "iopub.execute_input": "2021-02-09T00:39:42.812438Z",
     "iopub.status.busy": "2021-02-09T00:39:42.811486Z",
     "iopub.status.idle": "2021-02-09T00:39:42.816533Z",
     "shell.execute_reply": "2021-02-09T00:39:42.815309Z"
    },
    "papermill": {
     "duration": 0.031169,
     "end_time": "2021-02-09T00:39:42.816872",
     "exception": false,
     "start_time": "2021-02-09T00:39:42.785703",
     "status": "completed"
    },
    "tags": []
   },
   "outputs": [
    {
     "name": "stdout",
     "output_type": "stream",
     "text": [
      "x_train shape:  (42000, 28, 28, 1)\n",
      "y_train shape:  (42000,)\n",
      "test shape:  (28000, 28, 28, 1)\n"
     ]
    }
   ],
   "source": [
    "print('x_train shape: ', X_train.shape)\n",
    "print('y_train shape: ', y_train.shape)\n",
    "print('test shape: ', test.shape)"
   ]
  },
  {
   "cell_type": "code",
   "execution_count": 9,
   "metadata": {
    "execution": {
     "iopub.execute_input": "2021-02-09T00:39:42.889358Z",
     "iopub.status.busy": "2021-02-09T00:39:42.884339Z",
     "iopub.status.idle": "2021-02-09T00:39:43.368978Z",
     "shell.execute_reply": "2021-02-09T00:39:43.369460Z"
    },
    "papermill": {
     "duration": 0.53038,
     "end_time": "2021-02-09T00:39:43.369648",
     "exception": false,
     "start_time": "2021-02-09T00:39:42.839268",
     "status": "completed"
    },
    "tags": []
   },
   "outputs": [
    {
     "data": {
      "image/png": "[encoded data removed]",
      "text/plain": [
       "<Figure size 864x720 with 10 Axes>"
      ]
     },
     "metadata": {
      "needs_background": "light"
     },
     "output_type": "display_data"
    }
   ],
   "source": [
    "plt.figure(figsize=(12,10))\n",
    "for img in range(10):\n",
    "    plt.subplot(5, 5, img+1)\n",
    "    plt.imshow(X_train[img].reshape((28, 28)), cmap='binary_r')\n",
    "    plt.axis('off')\n",
    "    plt.title('Label: ' + y_train[img].astype('str'))\n",
    "plt.show()"
   ]
  },
  {
   "cell_type": "code",
   "execution_count": 10,
   "metadata": {
    "execution": {
     "iopub.execute_input": "2021-02-09T00:39:43.417599Z",
     "iopub.status.busy": "2021-02-09T00:39:43.416785Z",
     "iopub.status.idle": "2021-02-09T00:39:50.095806Z",
     "shell.execute_reply": "2021-02-09T00:39:50.095198Z"
    },
    "papermill": {
     "duration": 6.704866,
     "end_time": "2021-02-09T00:39:50.095955",
     "exception": false,
     "start_time": "2021-02-09T00:39:43.391089",
     "status": "completed"
    },
    "tags": []
   },
   "outputs": [],
   "source": [
    "from keras.utils import to_categorical\n",
    "y_train = to_categorical(y_train, 10)"
   ]
  },
  {
   "cell_type": "code",
   "execution_count": 11,
   "metadata": {
    "execution": {
     "iopub.execute_input": "2021-02-09T00:39:50.146432Z",
     "iopub.status.busy": "2021-02-09T00:39:50.145706Z",
     "iopub.status.idle": "2021-02-09T00:39:50.968327Z",
     "shell.execute_reply": "2021-02-09T00:39:50.967671Z"
    },
    "papermill": {
     "duration": 0.850834,
     "end_time": "2021-02-09T00:39:50.968495",
     "exception": false,
     "start_time": "2021-02-09T00:39:50.117661",
     "status": "completed"
    },
    "tags": []
   },
   "outputs": [],
   "source": [
    "from sklearn.model_selection import train_test_split\n",
    "X_train, X_test, y_train, y_test = train_test_split(X_train, y_train, test_size = 0.1, random_state=1)"
   ]
  },
  {
   "cell_type": "code",
   "execution_count": 12,
   "metadata": {
    "execution": {
     "iopub.execute_input": "2021-02-09T00:39:51.019508Z",
     "iopub.status.busy": "2021-02-09T00:39:51.018867Z",
     "iopub.status.idle": "2021-02-09T00:39:51.022223Z",
     "shell.execute_reply": "2021-02-09T00:39:51.021420Z"
    },
    "papermill": {
     "duration": 0.032531,
     "end_time": "2021-02-09T00:39:51.022386",
     "exception": false,
     "start_time": "2021-02-09T00:39:50.989855",
     "status": "completed"
    },
    "tags": []
   },
   "outputs": [],
   "source": [
    "import tensorflow as tf"
   ]
  },
  {
   "cell_type": "code",
   "execution_count": 13,
   "metadata": {
    "execution": {
     "iopub.execute_input": "2021-02-09T00:39:51.071834Z",
     "iopub.status.busy": "2021-02-09T00:39:51.071144Z",
     "iopub.status.idle": "2021-02-09T00:39:51.112486Z",
     "shell.execute_reply": "2021-02-09T00:39:51.111927Z"
    },
    "papermill": {
     "duration": 0.066508,
     "end_time": "2021-02-09T00:39:51.112654",
     "exception": false,
     "start_time": "2021-02-09T00:39:51.046146",
     "status": "completed"
    },
    "tags": []
   },
   "outputs": [],
   "source": [
    "cnn = tf.keras.models.Sequential()"
   ]
  },
  {
   "cell_type": "code",
   "execution_count": 14,
   "metadata": {
    "execution": {
     "iopub.execute_input": "2021-02-09T00:39:51.170362Z",
     "iopub.status.busy": "2021-02-09T00:39:51.164981Z",
     "iopub.status.idle": "2021-02-09T00:39:51.225876Z",
     "shell.execute_reply": "2021-02-09T00:39:51.226371Z"
    },
    "papermill": {
     "duration": 0.0921,
     "end_time": "2021-02-09T00:39:51.226569",
     "exception": false,
     "start_time": "2021-02-09T00:39:51.134469",
     "status": "completed"
    },
    "tags": []
   },
   "outputs": [],
   "source": [
    "cnn.add(tf.keras.layers.Conv2D(filters=32, kernel_size=3, activation='relu', input_shape=[28, 28, 1]))"
   ]
  },
  {
   "cell_type": "code",
   "execution_count": 15,
   "metadata": {
    "execution": {
     "iopub.execute_input": "2021-02-09T00:39:51.275903Z",
     "iopub.status.busy": "2021-02-09T00:39:51.275177Z",
     "iopub.status.idle": "2021-02-09T00:39:51.283767Z",
     "shell.execute_reply": "2021-02-09T00:39:51.284470Z"
    },
    "papermill": {
     "duration": 0.035451,
     "end_time": "2021-02-09T00:39:51.284669",
     "exception": false,
     "start_time": "2021-02-09T00:39:51.249218",
     "status": "completed"
    },
    "tags": []
   },
   "outputs": [],
   "source": [
    "cnn.add(tf.keras.layers.MaxPool2D(pool_size=2, strides=2))"
   ]
  },
  {
   "cell_type": "code",
   "execution_count": 16,
   "metadata": {
    "execution": {
     "iopub.execute_input": "2021-02-09T00:39:51.337397Z",
     "iopub.status.busy": "2021-02-09T00:39:51.336696Z",
     "iopub.status.idle": "2021-02-09T00:39:51.353766Z",
     "shell.execute_reply": "2021-02-09T00:39:51.353024Z"
    },
    "papermill": {
     "duration": 0.047414,
     "end_time": "2021-02-09T00:39:51.353944",
     "exception": false,
     "start_time": "2021-02-09T00:39:51.306530",
     "status": "completed"
    },
    "tags": []
   },
   "outputs": [],
   "source": [
    "cnn.add(tf.keras.layers.Conv2D(filters=32, kernel_size=3, activation='relu'))\n",
    "cnn.add(tf.keras.layers.MaxPool2D(pool_size=2, strides=2))"
   ]
  },
  {
   "cell_type": "code",
   "execution_count": 17,
   "metadata": {
    "execution": {
     "iopub.execute_input": "2021-02-09T00:39:51.408410Z",
     "iopub.status.busy": "2021-02-09T00:39:51.406371Z",
     "iopub.status.idle": "2021-02-09T00:39:51.411848Z",
     "shell.execute_reply": "2021-02-09T00:39:51.411062Z"
    },
    "papermill": {
     "duration": 0.036087,
     "end_time": "2021-02-09T00:39:51.412000",
     "exception": false,
     "start_time": "2021-02-09T00:39:51.375913",
     "status": "completed"
    },
    "tags": []
   },
   "outputs": [],
   "source": [
    "cnn.add(tf.keras.layers.Flatten())"
   ]
  },
  {
   "cell_type": "code",
   "execution_count": 18,
   "metadata": {
    "execution": {
     "iopub.execute_input": "2021-02-09T00:39:51.459340Z",
     "iopub.status.busy": "2021-02-09T00:39:51.458700Z",
     "iopub.status.idle": "2021-02-09T00:39:51.474853Z",
     "shell.execute_reply": "2021-02-09T00:39:51.474252Z"
    },
    "papermill": {
     "duration": 0.040916,
     "end_time": "2021-02-09T00:39:51.475003",
     "exception": false,
     "start_time": "2021-02-09T00:39:51.434087",
     "status": "completed"
    },
    "tags": []
   },
   "outputs": [],
   "source": [
    "cnn.add(tf.keras.layers.Dense(units=128, activation='relu'))"
   ]
  },
  {
   "cell_type": "code",
   "execution_count": 19,
   "metadata": {
    "execution": {
     "iopub.execute_input": "2021-02-09T00:39:51.528301Z",
     "iopub.status.busy": "2021-02-09T00:39:51.527243Z",
     "iopub.status.idle": "2021-02-09T00:39:51.537570Z",
     "shell.execute_reply": "2021-02-09T00:39:51.536902Z"
    },
    "papermill": {
     "duration": 0.040547,
     "end_time": "2021-02-09T00:39:51.537739",
     "exception": false,
     "start_time": "2021-02-09T00:39:51.497192",
     "status": "completed"
    },
    "tags": []
   },
   "outputs": [],
   "source": [
    "cnn.add(tf.keras.layers.Dense(units=10, activation='softmax'))"
   ]
  },
  {
   "cell_type": "code",
   "execution_count": 20,
   "metadata": {
    "execution": {
     "iopub.execute_input": "2021-02-09T00:39:51.593202Z",
     "iopub.status.busy": "2021-02-09T00:39:51.588078Z",
     "iopub.status.idle": "2021-02-09T00:39:51.602602Z",
     "shell.execute_reply": "2021-02-09T00:39:51.602093Z"
    },
    "papermill": {
     "duration": 0.042731,
     "end_time": "2021-02-09T00:39:51.602779",
     "exception": false,
     "start_time": "2021-02-09T00:39:51.560048",
     "status": "completed"
    },
    "tags": []
   },
   "outputs": [],
   "source": [
    "cnn.compile(optimizer = 'Adadelta', loss = 'categorical_crossentropy', metrics = ['accuracy'])"
   ]
  },
  {
   "cell_type": "code",
   "execution_count": 21,
   "metadata": {
    "execution": {
     "iopub.execute_input": "2021-02-09T00:39:51.653587Z",
     "iopub.status.busy": "2021-02-09T00:39:51.652511Z",
     "iopub.status.idle": "2021-02-09T00:47:16.337305Z",
     "shell.execute_reply": "2021-02-09T00:47:16.336709Z"
    },
    "papermill": {
     "duration": 444.712137,
     "end_time": "2021-02-09T00:47:16.337456",
     "exception": false,
     "start_time": "2021-02-09T00:39:51.625319",
     "status": "completed"
    },
    "tags": []
   },
   "outputs": [
    {
     "name": "stdout",
     "output_type": "stream",
     "text": [
      "Epoch 1/25\n",
      "1182/1182 [==============================] - 19s 15ms/step - loss: 27.4586 - accuracy: 0.0759 - val_loss: 11.7289 - val_accuracy: 0.1543\n",
      "Epoch 2/25\n",
      "1182/1182 [==============================] - 17s 15ms/step - loss: 10.2401 - accuracy: 0.1944 - val_loss: 7.0855 - val_accuracy: 0.3098\n",
      "Epoch 3/25\n",
      "1182/1182 [==============================] - 18s 15ms/step - loss: 6.4438 - accuracy: 0.3447 - val_loss: 4.8810 - val_accuracy: 0.4405\n",
      "Epoch 4/25\n",
      "1182/1182 [==============================] - 17s 15ms/step - loss: 4.6205 - accuracy: 0.4599 - val_loss: 3.6692 - val_accuracy: 0.5383\n",
      "Epoch 5/25\n",
      "1182/1182 [==============================] - 18s 15ms/step - loss: 3.3703 - accuracy: 0.5522 - val_loss: 2.9178 - val_accuracy: 0.6007\n",
      "Epoch 6/25\n",
      "1182/1182 [==============================] - 18s 15ms/step - loss: 2.7480 - accuracy: 0.6152 - val_loss: 2.4185 - val_accuracy: 0.6402\n",
      "Epoch 7/25\n",
      "1182/1182 [==============================] - 18s 15ms/step - loss: 2.3399 - accuracy: 0.6577 - val_loss: 2.0695 - val_accuracy: 0.6843\n",
      "Epoch 8/25\n",
      "1182/1182 [==============================] - 18s 15ms/step - loss: 2.0149 - accuracy: 0.6950 - val_loss: 1.8170 - val_accuracy: 0.7126\n",
      "Epoch 9/25\n",
      "1182/1182 [==============================] - 18s 15ms/step - loss: 1.7438 - accuracy: 0.7286 - val_loss: 1.6306 - val_accuracy: 0.7364\n",
      "Epoch 10/25\n",
      "1182/1182 [==============================] - 18s 15ms/step - loss: 1.5665 - accuracy: 0.7487 - val_loss: 1.4769 - val_accuracy: 0.7548\n",
      "Epoch 11/25\n",
      "1182/1182 [==============================] - 18s 15ms/step - loss: 1.4277 - accuracy: 0.7660 - val_loss: 1.3604 - val_accuracy: 0.7688\n",
      "Epoch 12/25\n",
      "1182/1182 [==============================] - 18s 15ms/step - loss: 1.3407 - accuracy: 0.7780 - val_loss: 1.2635 - val_accuracy: 0.7817\n",
      "Epoch 13/25\n",
      "1182/1182 [==============================] - 18s 15ms/step - loss: 1.2265 - accuracy: 0.7930 - val_loss: 1.1805 - val_accuracy: 0.7914\n",
      "Epoch 14/25\n",
      "1182/1182 [==============================] - 18s 15ms/step - loss: 1.1559 - accuracy: 0.8043 - val_loss: 1.1136 - val_accuracy: 0.8019\n",
      "Epoch 15/25\n",
      "1182/1182 [==============================] - 18s 15ms/step - loss: 1.0676 - accuracy: 0.8112 - val_loss: 1.0523 - val_accuracy: 0.8081\n",
      "Epoch 16/25\n",
      "1182/1182 [==============================] - 18s 15ms/step - loss: 1.0383 - accuracy: 0.8199 - val_loss: 0.9997 - val_accuracy: 0.8188\n",
      "Epoch 17/25\n",
      "1182/1182 [==============================] - 18s 15ms/step - loss: 0.9643 - accuracy: 0.8299 - val_loss: 0.9519 - val_accuracy: 0.8269\n",
      "Epoch 18/25\n",
      "1182/1182 [==============================] - 18s 15ms/step - loss: 0.9077 - accuracy: 0.8392 - val_loss: 0.9138 - val_accuracy: 0.8317\n",
      "Epoch 19/25\n",
      "1182/1182 [==============================] - 18s 15ms/step - loss: 0.9004 - accuracy: 0.8393 - val_loss: 0.8764 - val_accuracy: 0.8395\n",
      "Epoch 20/25\n",
      "1182/1182 [==============================] - 18s 15ms/step - loss: 0.8799 - accuracy: 0.8435 - val_loss: 0.8445 - val_accuracy: 0.8450\n",
      "Epoch 21/25\n",
      "1182/1182 [==============================] - 18s 15ms/step - loss: 0.8166 - accuracy: 0.8511 - val_loss: 0.8126 - val_accuracy: 0.8519\n",
      "Epoch 22/25\n",
      "1182/1182 [==============================] - 18s 15ms/step - loss: 0.7911 - accuracy: 0.8565 - val_loss: 0.7851 - val_accuracy: 0.8560\n",
      "Epoch 23/25\n",
      "1182/1182 [==============================] - 17s 15ms/step - loss: 0.7410 - accuracy: 0.8600 - val_loss: 0.7607 - val_accuracy: 0.8598\n",
      "Epoch 24/25\n",
      "1182/1182 [==============================] - 18s 15ms/step - loss: 0.7497 - accuracy: 0.8627 - val_loss: 0.7390 - val_accuracy: 0.8621\n",
      "Epoch 25/25\n",
      "1182/1182 [==============================] - 18s 15ms/step - loss: 0.7149 - accuracy: 0.8685 - val_loss: 0.7169 - val_accuracy: 0.8657\n"
     ]
    },
    {
     "data": {
      "text/plain": [
       "<tensorflow.python.keras.callbacks.History at 0x7f90983aa390>"
      ]
     },
     "execution_count": 21,
     "metadata": {},
     "output_type": "execute_result"
    }
   ],
   "source": [
    "cnn.fit(X_train, y_train, validation_data = (X_test, y_test), epochs = 25)"
   ]
  },
  {
   "cell_type": "code",
   "execution_count": 22,
   "metadata": {
    "execution": {
     "iopub.execute_input": "2021-02-09T00:47:21.122062Z",
     "iopub.status.busy": "2021-02-09T00:47:21.121036Z",
     "iopub.status.idle": "2021-02-09T00:47:27.470847Z",
     "shell.execute_reply": "2021-02-09T00:47:27.469901Z"
    },
    "papermill": {
     "duration": 8.79303,
     "end_time": "2021-02-09T00:47:27.471036",
     "exception": false,
     "start_time": "2021-02-09T00:47:18.678006",
     "status": "completed"
    },
    "tags": []
   },
   "outputs": [
    {
     "name": "stdout",
     "output_type": "stream",
     "text": [
      "Train Loss:      0.68483\n",
      "Train Accuracy:  87.0053 %\n",
      "Test Loss:       0.71686\n",
      "Test Accuracy:   86.5714 %\n"
     ]
    }
   ],
   "source": [
    "loss, accuracy = cnn.evaluate(X_test, y_test, verbose=0)\n",
    "train_stat = cnn.evaluate(X_train, y_train, verbose=0)\n",
    "print('Train Loss:     ', round(train_stat[0], 5))\n",
    "print('Train Accuracy: ', round(train_stat[1]*100, 4), '%')\n",
    "print('Test Loss:      ', round(loss, 5))\n",
    "print('Test Accuracy:  ', round(accuracy*100, 4), '%')"
   ]
  },
  {
   "cell_type": "code",
   "execution_count": 23,
   "metadata": {
    "execution": {
     "iopub.execute_input": "2021-02-09T00:47:32.254442Z",
     "iopub.status.busy": "2021-02-09T00:47:32.253608Z",
     "iopub.status.idle": "2021-02-09T00:47:36.722451Z",
     "shell.execute_reply": "2021-02-09T00:47:36.721777Z"
    },
    "papermill": {
     "duration": 6.883535,
     "end_time": "2021-02-09T00:47:36.722592",
     "exception": false,
     "start_time": "2021-02-09T00:47:29.839057",
     "status": "completed"
    },
    "tags": []
   },
   "outputs": [],
   "source": [
    "predictions = cnn.predict(np.array(test.reshape(28000,28,28,1)))"
   ]
  },
  {
   "cell_type": "code",
   "execution_count": 24,
   "metadata": {
    "execution": {
     "iopub.execute_input": "2021-02-09T00:47:41.553009Z",
     "iopub.status.busy": "2021-02-09T00:47:41.537417Z",
     "iopub.status.idle": "2021-02-09T00:47:41.818481Z",
     "shell.execute_reply": "2021-02-09T00:47:41.817963Z"
    },
    "papermill": {
     "duration": 2.658546,
     "end_time": "2021-02-09T00:47:41.818632",
     "exception": false,
     "start_time": "2021-02-09T00:47:39.160086",
     "status": "completed"
    },
    "tags": []
   },
   "outputs": [],
   "source": [
    "output = []\n",
    "\n",
    "for i in range(len(predictions)):\n",
    "    j = -1\n",
    "    max_i = -1\n",
    "    out = 0\n",
    "    for num in predictions[i]:\n",
    "        j += 1\n",
    "        if num > max_i:\n",
    "            max_i = num\n",
    "            out = j\n",
    "            \n",
    "    output.append(out)\n",
    "        "
   ]
  },
  {
   "cell_type": "code",
   "execution_count": 25,
   "metadata": {
    "execution": {
     "iopub.execute_input": "2021-02-09T00:47:46.575659Z",
     "iopub.status.busy": "2021-02-09T00:47:46.575021Z",
     "iopub.status.idle": "2021-02-09T00:47:46.579231Z",
     "shell.execute_reply": "2021-02-09T00:47:46.578650Z"
    },
    "papermill": {
     "duration": 2.397206,
     "end_time": "2021-02-09T00:47:46.579388",
     "exception": false,
     "start_time": "2021-02-09T00:47:44.182182",
     "status": "completed"
    },
    "tags": []
   },
   "outputs": [
    {
     "name": "stdout",
     "output_type": "stream",
     "text": [
      "7\n"
     ]
    }
   ],
   "source": [
    "print(output[5])"
   ]
  },
  {
   "cell_type": "code",
   "execution_count": 26,
   "metadata": {
    "execution": {
     "iopub.execute_input": "2021-02-09T00:47:51.273124Z",
     "iopub.status.busy": "2021-02-09T00:47:51.272198Z",
     "iopub.status.idle": "2021-02-09T00:47:51.332172Z",
     "shell.execute_reply": "2021-02-09T00:47:51.332654Z"
    },
    "papermill": {
     "duration": 2.41863,
     "end_time": "2021-02-09T00:47:51.333123",
     "exception": false,
     "start_time": "2021-02-09T00:47:48.914493",
     "status": "completed"
    },
    "tags": []
   },
   "outputs": [],
   "source": [
    "outputDict = {\"ImageId\":np.arange(1,28001)}\n",
    "submissions = pd.DataFrame(outputDict)\n",
    "submissions[\"Label\"] = output\n",
    "submissions.to_csv(\"submission.csv\", index=False, header=True)\n"
   ]
  }
 ],
 "metadata": {
  "kernelspec": {
   "display_name": "Python 3",
   "language": "python",
   "name": "python3"
  },
  "language_info": {
   "codemirror_mode": {
    "name": "ipython",
    "version": 3
   },
   "file_extension": ".py",
   "mimetype": "text/x-python",
   "name": "python",
   "nbconvert_exporter": "python",
   "pygments_lexer": "ipython3",
   "version": "3.7.9"
  },
  "papermill": {
   "default_parameters": {},
   "duration": 506.685815,
   "end_time": "2021-02-09T00:47:54.883653",
   "environment_variables": {},
   "exception": null,
   "input_path": "__notebook__.ipynb",
   "output_path": "__notebook__.ipynb",
   "parameters": {},
   "start_time": "2021-02-09T00:39:28.197838",
   "version": "2.2.2"
  }
 },
 "nbformat": 4,
 "nbformat_minor": 4
}
